{
 "cells": [
  {
   "cell_type": "markdown",
   "metadata": {},
   "source": [
    "# Plotting geotagged Tweets on a map"
   ]
  },
  {
   "cell_type": "markdown",
   "metadata": {},
   "source": [
    "### Libraries required"
   ]
  },
  {
   "cell_type": "code",
   "execution_count": 1,
   "metadata": {
    "collapsed": true
   },
   "outputs": [],
   "source": [
    "import numpy as np\n",
    "import pandas as pd\n",
    "from dateutil import tz\n",
    "import matplotlib.pyplot as plt\n",
    "from mpl_toolkits.basemap import Basemap\n",
    "from datetime import datetime, timedelta\n",
    "\n",
    "%matplotlib inline"
   ]
  },
  {
   "cell_type": "markdown",
   "metadata": {},
   "source": [
    "### Data loading and cleaning"
   ]
  },
  {
   "cell_type": "code",
   "execution_count": 2,
   "metadata": {},
   "outputs": [
    {
     "ename": "KeyboardInterrupt",
     "evalue": "",
     "output_type": "error",
     "traceback": [
      "\u001b[0;31m---------------------------------------------------------------------------\u001b[0m",
      "\u001b[0;31mKeyboardInterrupt\u001b[0m                         Traceback (most recent call last)",
      "\u001b[0;32m<ipython-input-2-b53c291085f2>\u001b[0m in \u001b[0;36m<module>\u001b[0;34m()\u001b[0m\n\u001b[1;32m      2\u001b[0m \u001b[0mLoads\u001b[0m \u001b[0mthe\u001b[0m \u001b[0mdata\u001b[0m \u001b[0;32mand\u001b[0m \u001b[0mintroduces\u001b[0m \u001b[0mcolumn\u001b[0m \u001b[0mnames\u001b[0m\u001b[0;34m\u001b[0m\u001b[0m\n\u001b[1;32m      3\u001b[0m '''\n\u001b[0;32m----> 4\u001b[0;31m \u001b[0mdf\u001b[0m \u001b[0;34m=\u001b[0m \u001b[0mpd\u001b[0m\u001b[0;34m.\u001b[0m\u001b[0mread_csv\u001b[0m\u001b[0;34m(\u001b[0m\u001b[0;34m'GeoResultsLatest.csv'\u001b[0m\u001b[0;34m,\u001b[0m \u001b[0mnames\u001b[0m \u001b[0;34m=\u001b[0m \u001b[0;34m[\u001b[0m\u001b[0;34m'index_del'\u001b[0m\u001b[0;34m,\u001b[0m \u001b[0;34m'Bounding Box'\u001b[0m\u001b[0;34m,\u001b[0m \u001b[0;34m'Coordinates'\u001b[0m\u001b[0;34m,\u001b[0m \u001b[0;34m'del'\u001b[0m\u001b[0;34m,\u001b[0m \u001b[0;34m'DateTime'\u001b[0m\u001b[0;34m,\u001b[0m \u001b[0;34m'Geo Enabled'\u001b[0m\u001b[0;34m,\u001b[0m \u001b[0;34m'Language'\u001b[0m\u001b[0;34m,\u001b[0m \u001b[0;34m'Name'\u001b[0m\u001b[0;34m,\u001b[0m \u001b[0;34m'Tweet'\u001b[0m\u001b[0;34m,\u001b[0m \u001b[0;34m'Username'\u001b[0m\u001b[0;34m,\u001b[0m \u001b[0;34m'del_1'\u001b[0m\u001b[0;34m,\u001b[0m \u001b[0;34m'del_2'\u001b[0m\u001b[0;34m,\u001b[0m \u001b[0;34m'del_3'\u001b[0m\u001b[0;34m,\u001b[0m \u001b[0;34m'del_4'\u001b[0m\u001b[0;34m,\u001b[0m \u001b[0;34m'del_5'\u001b[0m\u001b[0;34m]\u001b[0m\u001b[0;34m)\u001b[0m\u001b[0;34m\u001b[0m\u001b[0m\n\u001b[0m\u001b[1;32m      5\u001b[0m \u001b[0;34m\u001b[0m\u001b[0m\n\u001b[1;32m      6\u001b[0m '''\n",
      "\u001b[0;32m~/anaconda3/lib/python3.6/site-packages/pandas/io/parsers.py\u001b[0m in \u001b[0;36mparser_f\u001b[0;34m(filepath_or_buffer, sep, delimiter, header, names, index_col, usecols, squeeze, prefix, mangle_dupe_cols, dtype, engine, converters, true_values, false_values, skipinitialspace, skiprows, nrows, na_values, keep_default_na, na_filter, verbose, skip_blank_lines, parse_dates, infer_datetime_format, keep_date_col, date_parser, dayfirst, iterator, chunksize, compression, thousands, decimal, lineterminator, quotechar, quoting, escapechar, comment, encoding, dialect, tupleize_cols, error_bad_lines, warn_bad_lines, skipfooter, skip_footer, doublequote, delim_whitespace, as_recarray, compact_ints, use_unsigned, low_memory, buffer_lines, memory_map, float_precision)\u001b[0m\n\u001b[1;32m    653\u001b[0m                     skip_blank_lines=skip_blank_lines)\n\u001b[1;32m    654\u001b[0m \u001b[0;34m\u001b[0m\u001b[0m\n\u001b[0;32m--> 655\u001b[0;31m         \u001b[0;32mreturn\u001b[0m \u001b[0m_read\u001b[0m\u001b[0;34m(\u001b[0m\u001b[0mfilepath_or_buffer\u001b[0m\u001b[0;34m,\u001b[0m \u001b[0mkwds\u001b[0m\u001b[0;34m)\u001b[0m\u001b[0;34m\u001b[0m\u001b[0m\n\u001b[0m\u001b[1;32m    656\u001b[0m \u001b[0;34m\u001b[0m\u001b[0m\n\u001b[1;32m    657\u001b[0m     \u001b[0mparser_f\u001b[0m\u001b[0;34m.\u001b[0m\u001b[0m__name__\u001b[0m \u001b[0;34m=\u001b[0m \u001b[0mname\u001b[0m\u001b[0;34m\u001b[0m\u001b[0m\n",
      "\u001b[0;32m~/anaconda3/lib/python3.6/site-packages/pandas/io/parsers.py\u001b[0m in \u001b[0;36m_read\u001b[0;34m(filepath_or_buffer, kwds)\u001b[0m\n\u001b[1;32m    409\u001b[0m \u001b[0;34m\u001b[0m\u001b[0m\n\u001b[1;32m    410\u001b[0m     \u001b[0;32mtry\u001b[0m\u001b[0;34m:\u001b[0m\u001b[0;34m\u001b[0m\u001b[0m\n\u001b[0;32m--> 411\u001b[0;31m         \u001b[0mdata\u001b[0m \u001b[0;34m=\u001b[0m \u001b[0mparser\u001b[0m\u001b[0;34m.\u001b[0m\u001b[0mread\u001b[0m\u001b[0;34m(\u001b[0m\u001b[0mnrows\u001b[0m\u001b[0;34m)\u001b[0m\u001b[0;34m\u001b[0m\u001b[0m\n\u001b[0m\u001b[1;32m    412\u001b[0m     \u001b[0;32mfinally\u001b[0m\u001b[0;34m:\u001b[0m\u001b[0;34m\u001b[0m\u001b[0m\n\u001b[1;32m    413\u001b[0m         \u001b[0mparser\u001b[0m\u001b[0;34m.\u001b[0m\u001b[0mclose\u001b[0m\u001b[0;34m(\u001b[0m\u001b[0;34m)\u001b[0m\u001b[0;34m\u001b[0m\u001b[0m\n",
      "\u001b[0;32m~/anaconda3/lib/python3.6/site-packages/pandas/io/parsers.py\u001b[0m in \u001b[0;36mread\u001b[0;34m(self, nrows)\u001b[0m\n\u001b[1;32m   1003\u001b[0m                 \u001b[0;32mraise\u001b[0m \u001b[0mValueError\u001b[0m\u001b[0;34m(\u001b[0m\u001b[0;34m'skipfooter not supported for iteration'\u001b[0m\u001b[0;34m)\u001b[0m\u001b[0;34m\u001b[0m\u001b[0m\n\u001b[1;32m   1004\u001b[0m \u001b[0;34m\u001b[0m\u001b[0m\n\u001b[0;32m-> 1005\u001b[0;31m         \u001b[0mret\u001b[0m \u001b[0;34m=\u001b[0m \u001b[0mself\u001b[0m\u001b[0;34m.\u001b[0m\u001b[0m_engine\u001b[0m\u001b[0;34m.\u001b[0m\u001b[0mread\u001b[0m\u001b[0;34m(\u001b[0m\u001b[0mnrows\u001b[0m\u001b[0;34m)\u001b[0m\u001b[0;34m\u001b[0m\u001b[0m\n\u001b[0m\u001b[1;32m   1006\u001b[0m \u001b[0;34m\u001b[0m\u001b[0m\n\u001b[1;32m   1007\u001b[0m         \u001b[0;32mif\u001b[0m \u001b[0mself\u001b[0m\u001b[0;34m.\u001b[0m\u001b[0moptions\u001b[0m\u001b[0;34m.\u001b[0m\u001b[0mget\u001b[0m\u001b[0;34m(\u001b[0m\u001b[0;34m'as_recarray'\u001b[0m\u001b[0;34m)\u001b[0m\u001b[0;34m:\u001b[0m\u001b[0;34m\u001b[0m\u001b[0m\n",
      "\u001b[0;32m~/anaconda3/lib/python3.6/site-packages/pandas/io/parsers.py\u001b[0m in \u001b[0;36mread\u001b[0;34m(self, nrows)\u001b[0m\n\u001b[1;32m   1746\u001b[0m     \u001b[0;32mdef\u001b[0m \u001b[0mread\u001b[0m\u001b[0;34m(\u001b[0m\u001b[0mself\u001b[0m\u001b[0;34m,\u001b[0m \u001b[0mnrows\u001b[0m\u001b[0;34m=\u001b[0m\u001b[0;32mNone\u001b[0m\u001b[0;34m)\u001b[0m\u001b[0;34m:\u001b[0m\u001b[0;34m\u001b[0m\u001b[0m\n\u001b[1;32m   1747\u001b[0m         \u001b[0;32mtry\u001b[0m\u001b[0;34m:\u001b[0m\u001b[0;34m\u001b[0m\u001b[0m\n\u001b[0;32m-> 1748\u001b[0;31m             \u001b[0mdata\u001b[0m \u001b[0;34m=\u001b[0m \u001b[0mself\u001b[0m\u001b[0;34m.\u001b[0m\u001b[0m_reader\u001b[0m\u001b[0;34m.\u001b[0m\u001b[0mread\u001b[0m\u001b[0;34m(\u001b[0m\u001b[0mnrows\u001b[0m\u001b[0;34m)\u001b[0m\u001b[0;34m\u001b[0m\u001b[0m\n\u001b[0m\u001b[1;32m   1749\u001b[0m         \u001b[0;32mexcept\u001b[0m \u001b[0mStopIteration\u001b[0m\u001b[0;34m:\u001b[0m\u001b[0;34m\u001b[0m\u001b[0m\n\u001b[1;32m   1750\u001b[0m             \u001b[0;32mif\u001b[0m \u001b[0mself\u001b[0m\u001b[0;34m.\u001b[0m\u001b[0m_first_chunk\u001b[0m\u001b[0;34m:\u001b[0m\u001b[0;34m\u001b[0m\u001b[0m\n",
      "\u001b[0;32mpandas/_libs/parsers.pyx\u001b[0m in \u001b[0;36mpandas._libs.parsers.TextReader.read (pandas/_libs/parsers.c:10862)\u001b[0;34m()\u001b[0m\n",
      "\u001b[0;32mpandas/_libs/parsers.pyx\u001b[0m in \u001b[0;36mpandas._libs.parsers.TextReader._read_low_memory (pandas/_libs/parsers.c:11563)\u001b[0;34m()\u001b[0m\n",
      "\u001b[0;32mpandas/_libs/parsers.pyx\u001b[0m in \u001b[0;36mpandas._libs.parsers._concatenate_chunks (pandas/_libs/parsers.c:29411)\u001b[0;34m()\u001b[0m\n",
      "\u001b[0;32m~/anaconda3/lib/python3.6/warnings.py\u001b[0m in \u001b[0;36m__init__\u001b[0;34m(self, message, category, filename, lineno, file, line, source)\u001b[0m\n\u001b[1;32m    396\u001b[0m                         \"line\", \"source\")\n\u001b[1;32m    397\u001b[0m \u001b[0;34m\u001b[0m\u001b[0m\n\u001b[0;32m--> 398\u001b[0;31m     def __init__(self, message, category, filename, lineno, file=None,\n\u001b[0m\u001b[1;32m    399\u001b[0m                  line=None, source=None):\n\u001b[1;32m    400\u001b[0m         \u001b[0mlocal_values\u001b[0m \u001b[0;34m=\u001b[0m \u001b[0mlocals\u001b[0m\u001b[0;34m(\u001b[0m\u001b[0;34m)\u001b[0m\u001b[0;34m\u001b[0m\u001b[0m\n",
      "\u001b[0;31mKeyboardInterrupt\u001b[0m: "
     ]
    }
   ],
   "source": [
    "'''\n",
    "Loads the data and introduces column names\n",
    "'''\n",
    "df = pd.read_csv('results.csv', names = ['index_del', 'Bounding Box', 'Coordinates', 'del', 'DateTime', 'Geo Enabled', 'Language', 'Name', 'Tweet', 'Username', 'del_1', 'del_2', 'del_3', 'del_4', 'del_5'])\n",
    "\n",
    "'''\n",
    "Drops irrelevant columns from the dataframe\n",
    "'''\n",
    "df = df.drop(['index_del', 'del', 'Bounding Box', 'Geo Enabled', 'Language', 'Tweet', 'Name', 'del_1', 'del_2', 'del_3', 'del_4', 'del_5'], axis=1)\n",
    "df = df.drop_duplicates()\n",
    "print('Number of data points collected: ', len(df))\n",
    "df_coord = df[df['Coordinates'] != 'not shown']\n",
    "print('Number of data points geotagged: ', len(df_coord))\n",
    "df_coord = df_coord.sort_values('DateTime')\n",
    "\n",
    "\n",
    "print('Number of data points with missing values: ', df_coord.isnull().sum().sum())\n",
    "df_coord.dropna(inplace = True)\n",
    "\n",
    "'''\n",
    "Introduce and reformat DateTime data for easy manipulation later as well as reconfigures timezone to local time zone\n",
    "'''\n",
    "df_coord[\"Day of the Week\"] = \"\"\n",
    "df_coord[\"Time\"] = \"\"\n",
    "    \n",
    "for i in range(len(df_coord.DateTime)):\n",
    "    df_coord.DateTime.iloc[i] = datetime.strptime(str(df_coord.DateTime.iloc[i]), '%a %b %d %H:%M:%S %z %Y')\n",
    "\n",
    "    # auto-detect timezones\n",
    "    from_zone = tz.tzutc()\n",
    "    to_zone = tz.gettz('Asia/Kuala Lumpur')\n",
    "    df_coord.DateTime.iloc[i] = df_coord.DateTime.iloc[i].replace(tzinfo=from_zone)\n",
    "    df_coord.DateTime.iloc[i] = df_coord.DateTime.iloc[i].astimezone(to_zone)\n",
    "        \n",
    "    df_coord['Day of the Week'].iloc[i] = df_coord.DateTime.iloc[i].weekday()\n",
    "\n",
    "    df_coord['Time'].iloc[i] = df_coord.DateTime.iloc[i].strftime('%H:%M:%S')"
   ]
  },
  {
   "cell_type": "markdown",
   "metadata": {},
   "source": [
    "### Splitting data according to time"
   ]
  },
  {
   "cell_type": "code",
   "execution_count": null,
   "metadata": {},
   "outputs": [],
   "source": [
    "'''\n",
    "Organises data first into weekday and weekends and then splits it into work and non-work hours\n",
    "'''\n",
    "# Creates dataframes to identify tweets on weekdays versus weekends\n",
    "df_weekday = df_coord[df_coord['Day of the Week'] < 5]\n",
    "df_weekend = df_coord[df_coord['Day of the Week'] > 4]\n",
    "\n",
    "# Creates dataframes to identify tweets during and outside of workhours\n",
    "df_workhours = df_weekday[(df_weekday['Time'] > '09:00:00') & (df_weekday['Time'] < '18:00:00')]\n",
    "df_non_workhours = df_weekday[(df_weekday['Time'] < '09:00:00') & (df_weekday['Time'] > '18:00:00')]\n",
    "df_non_workhours = pd.concat([df_non_workhours, df_weekend], ignore_index=True)\n",
    "\n",
    "'''\n",
    "Identifies the number of tweets collected for each dataframe\n",
    "'''\n",
    "print('Tweets during workhours: ', len(df_workhours))\n",
    "print('Tweets outside workhours: ', len(df_non_workhours))"
   ]
  },
  {
   "cell_type": "markdown",
   "metadata": {},
   "source": [
    "### Plotting the data\n",
    "\n",
    "Certain sections have been commented out since only one data frame is being plotted here."
   ]
  },
  {
   "cell_type": "code",
   "execution_count": null,
   "metadata": {},
   "outputs": [],
   "source": [
    "'''\n",
    "Identifies the datasets being examined\n",
    "'''\n",
    "df_one = df_non_workhours\n",
    "# df_two = df_workhours\n",
    "\n",
    "'''\n",
    "Creates a latitude and longitude dataframe column for df_one that will be used for plotting\n",
    "'''\n",
    "latitudes = []\n",
    "longitudes = []\n",
    "for i in df_one['Coordinates']:\n",
    "    i = list(i[1:-1].split(', '))\n",
    "    latitudes.append(i[0])\n",
    "    longitudes.append(i[1])\n",
    "    \n",
    "se = pd.Series(latitudes)\n",
    "df_one['Latitudes'] = se.values\n",
    "se = pd.Series(longitudes)\n",
    "df_one['Longitudes'] = se.values\n",
    "\n",
    "'''\n",
    "Creates a latitude and longitude dataframe column for df_two that will be used for plotting\n",
    "'''\n",
    "# latitudes = []\n",
    "# longitudes = []\n",
    "# for i in df_two['Coordinates']:\n",
    "#     i = list(i[1:-1].split(', '))\n",
    "#     latitudes.append(i[0])\n",
    "#     longitudes.append(i[1])\n",
    "\n",
    "# se = pd.Series(latitudes)\n",
    "# df_two['Latitudes'] = se.values\n",
    "# se = pd.Series(longitudes)\n",
    "# df_two['Longitudes'] = se.values\n",
    "\n",
    "'''\n",
    "Sets up the plot by adjusting boundaries and calling the GIS\n",
    "'''\n",
    "# Masjid Jamek Coordinates: 3.1489° N, 101.6956° E\n",
    "fig = plt.figure(figsize=(20, 20))\n",
    "m = Basemap(llcrnrlon = 101.68,\n",
    "            llcrnrlat = 3.14,\n",
    "            urcrnrlon = 101.73,\n",
    "            urcrnrlat = 3.16,\n",
    "            epsg=3380)\n",
    "\n",
    "m.arcgisimage(service='World_Topo_Map', xpixels = 2000, verbose= True)\n",
    "\n",
    "'''\n",
    "Plots the points onto the plot that was set up\n",
    "'''\n",
    "# Map (long, lat) to (x, y) for plotting\n",
    "x, y = m(101.6956, 3.1489)\n",
    "plt.plot(x, y, 'X', markersize=10, color = 'red')\n",
    "\n",
    "for i in range(len(df_one)):\n",
    "    x, y = m(df_one['Longitudes'].iloc[i], df_one['Latitudes'].iloc[i])\n",
    "    plt.plot(x, y, 'ok', markersize=3, color = '#086518')\n",
    "\n",
    "# for i in range(len(df_two)):\n",
    "#     x, y = m(df_two['Longitudes'].iloc[i], df_two['Latitudes'].iloc[i])\n",
    "#     plt.plot(x, y, 'ok', markersize=3, color = '#0084bd')\n",
    "\n",
    "plt.title('Non-work-hours')\n",
    "\n",
    "plt.show()\n",
    "\n",
    "fig.savefig('Non-work-hours.png')"
   ]
  },
  {
   "cell_type": "code",
   "execution_count": null,
   "metadata": {
    "collapsed": true
   },
   "outputs": [],
   "source": []
  }
 ],
 "metadata": {
  "kernelspec": {
   "display_name": "Python 3",
   "language": "python",
   "name": "python3"
  },
  "language_info": {
   "codemirror_mode": {
    "name": "ipython",
    "version": 3
   },
   "file_extension": ".py",
   "mimetype": "text/x-python",
   "name": "python",
   "nbconvert_exporter": "python",
   "pygments_lexer": "ipython3",
   "version": "3.6.3"
  }
 },
 "nbformat": 4,
 "nbformat_minor": 2
}
